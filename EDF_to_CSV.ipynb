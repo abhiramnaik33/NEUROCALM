{
 "cells": [
  {
   "cell_type": "code",
   "execution_count": 22,
   "id": "f78fa792-44b8-49f2-801a-ffa03365be24",
   "metadata": {},
   "outputs": [],
   "source": [
    "import mne\n",
    "import numpy as np\n",
    "import pandas as pd\n",
    "import matplotlib.pyplot as plt"
   ]
  },
  {
   "cell_type": "code",
   "execution_count": 23,
   "id": "5298ac0e-7ee4-4a4e-8fc7-69395d4eede9",
   "metadata": {},
   "outputs": [
    {
     "name": "stdout",
     "output_type": "stream",
     "text": [
      "Extracting EDF parameters from /media/sudarshan/Windows-SSD/Users/sudar/OneDrive/Documents/INNOVATEX/Dataset/S001R13.edf...\n",
      "EDF file detected\n",
      "Setting channel info structure...\n",
      "Creating raw.info structure...\n",
      "Reading 0 ... 19999  =      0.000 ...   124.994 secs...\n"
     ]
    }
   ],
   "source": [
    "# Load EDF file\n",
    "raw = mne.io.read_raw_edf(\"/media/sudarshan/Windows-SSD/Users/sudar/OneDrive/Documents/INNOVATEX/Dataset/S001R13.edf\", preload=True)  # Replace with your file path\n",
    "data, times= raw[:, :] \n",
    "fs = raw.info['sfreq']  # Get sampling frequency (e.g., 160 Hz)"
   ]
  },
  {
   "cell_type": "code",
   "execution_count": 24,
   "id": "c0edce81-1a12-46a9-9521-3d8d605b9b7f",
   "metadata": {},
   "outputs": [
    {
     "name": "stdout",
     "output_type": "stream",
     "text": [
      "<Annotations | 30 segments: T0 (15), T1 (7), T2 (8)>\n"
     ]
    }
   ],
   "source": [
    "# Get annotations\n",
    "annotations = raw.annotations\n",
    "print(annotations)"
   ]
  },
  {
   "cell_type": "code",
   "execution_count": 25,
   "id": "75c3847f-99f3-4fb3-8ccb-1ec56bb314eb",
   "metadata": {},
   "outputs": [
    {
     "name": "stdout",
     "output_type": "stream",
     "text": [
      "[0 0 0 ... 0 0 0]\n"
     ]
    }
   ],
   "source": [
    "# Initialize labels array (default to 0 for T0/No Stress)\n",
    "labels = np.zeros(len(raw.times), dtype=int)\n",
    "print(labels)"
   ]
  },
  {
   "cell_type": "code",
   "execution_count": 26,
   "id": "c99a815e-41ca-4cad-b031-aaace71bb9aa",
   "metadata": {},
   "outputs": [
    {
     "name": "stdout",
     "output_type": "stream",
     "text": [
      "[False False False ... False False False]\n"
     ]
    }
   ],
   "source": [
    "# Set labels based on annotations\n",
    "for ann in annotations:\n",
    "    start_time = ann['onset']\n",
    "    duration = ann['duration']\n",
    "    description = ann['description']\n",
    "    \n",
    "    # Convert time to samples\n",
    "    start_sample = int(start_time * fs)\n",
    "    end_sample = start_sample + int(duration * fs)\n",
    "    \n",
    "    # Set label based on annotation type\n",
    "    if description in ['T1', 'T2']:\n",
    "        labels[start_sample:end_sample] = 1  # Stress state\n",
    "print(labels[:]=='1')"
   ]
  },
  {
   "cell_type": "code",
   "execution_count": 27,
   "id": "384cf9f2-b832-4ff2-9cb3-0aae716b5094",
   "metadata": {},
   "outputs": [
    {
     "name": "stderr",
     "output_type": "stream",
     "text": [
      "/tmp/ipykernel_474372/313272909.py:3: FutureWarning: DataFrame.applymap has been deprecated. Use DataFrame.map instead.\n",
      "  df_cleaned = df.applymap(lambda x: float(str(x).replace(\"+AC0-\", \"-\").replace(\"+\", \"\").replace('−', '-').strip()) if isinstance(x, str) else float(x) if isinstance(x, int) else x)\n"
     ]
    },
    {
     "name": "stdout",
     "output_type": "stream",
     "text": [
      "CSV file generated successfully!\n",
      "0          0.00000\n",
      "1          0.00625\n",
      "2          0.01250\n",
      "3          0.01875\n",
      "4          0.02500\n",
      "           ...    \n",
      "19995    124.96875\n",
      "19996    124.97500\n",
      "19997    124.98125\n",
      "19998    124.98750\n",
      "19999    124.99375\n",
      "Name: timestamp, Length: 20000, dtype: float64\n",
      "0        0\n",
      "1        0\n",
      "2        0\n",
      "3        0\n",
      "4        0\n",
      "        ..\n",
      "19995    0\n",
      "19996    0\n",
      "19997    0\n",
      "19998    0\n",
      "19999    0\n",
      "Name: label, Length: 20000, dtype: int64\n"
     ]
    }
   ],
   "source": [
    "# Create DataFrame with EEG data and labels\n",
    "df = pd.DataFrame(data.T, columns=raw.ch_names)\n",
    "df_cleaned = df.applymap(lambda x: float(str(x).replace(\"+AC0-\", \"-\").replace(\"+\", \"\").replace('−', '-').strip()) if isinstance(x, str) else float(x) if isinstance(x, int) else x)\n",
    "df_cleaned[\"timestamp\"] = raw.times\n",
    "df_cleaned[\"label\"] = labels[:len(raw.times)]  # Trim to match data length\n",
    "# Save to CSV\n",
    "df_cleaned.to_csv(\"/media/sudarshan/Windows-SSD/Users/sudar/OneDrive/Documents/Neuro Calm Updated/Model 1/new_eeg_labeled_dataset2.csv\", index=False)\n",
    "print(\"CSV file generated successfully!\")\n",
    "print(df_cleaned[\"timestamp\"])\n",
    "print(df_cleaned[\"label\"])"
   ]
  },
  {
   "cell_type": "code",
   "execution_count": 28,
   "id": "92bf69f5-1570-47df-b6f2-cef21446b6c1",
   "metadata": {},
   "outputs": [
    {
     "data": {
      "image/png": "[encoded data removed]",
      "text/plain": [
       "<Figure size 1500x300 with 1 Axes>"
      ]
     },
     "metadata": {},
     "output_type": "display_data"
    }
   ],
   "source": [
    "plt.figure(figsize=(15, 3))\n",
    "plt.plot(df_cleaned['timestamp'], df_cleaned['label'], color='red')\n",
    "plt.yticks([0, 1], [\"Rest (T0)\", \"Focus (T1/T2)\"])\n",
    "plt.xlabel(\"Time (seconds)\")\n",
    "plt.title(\"Label Distribution\")\n",
    "plt.show()"
   ]
  },
  {
   "cell_type": "code",
   "execution_count": null,
   "id": "4cb9498a-6e61-43f5-826f-477f38496853",
   "metadata": {},
   "outputs": [],
   "source": []
  },
  {
   "cell_type": "code",
   "execution_count": null,
   "id": "2b0307d5-27ad-401f-af5c-e4130bcac7de",
   "metadata": {},
   "outputs": [],
   "source": []
  },
  {
   "cell_type": "code",
   "execution_count": null,
   "id": "da283f90-1082-42ba-88c3-d2ccab491a77",
   "metadata": {},
   "outputs": [],
   "source": []
  }
 ],
 "metadata": {
  "kernelspec": {
   "display_name": "Python 3 (ipykernel)",
   "language": "python",
   "name": "python3"
  },
  "language_info": {
   "codemirror_mode": {
    "name": "ipython",
    "version": 3
   },
   "file_extension": ".py",
   "mimetype": "text/x-python",
   "name": "python",
   "nbconvert_exporter": "python",
   "pygments_lexer": "ipython3",
   "version": "3.10.12"
  }
 },
 "nbformat": 4,
 "nbformat_minor": 5
}
